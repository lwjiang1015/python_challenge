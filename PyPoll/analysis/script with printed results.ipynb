{
 "cells": [
  {
   "cell_type": "code",
   "execution_count": 1,
   "id": "7dad7a9f-e97b-4784-8542-9adc4515aa79",
   "metadata": {},
   "outputs": [],
   "source": [
    "# import the os module and module for reading CSV files\n",
    "import os\n",
    "import csv\n",
    "\n",
    "# create the path to collect the data\n",
    "pypollpath = os.path.join('Resources','election_data.csv')\n",
    "\n",
    "# Reading using CSV module\n",
    "\n",
    "with open(pypollpath) as csvfile:\n",
    "\n",
    "    # CSV reader specifies delimiter and variable that holds contents\n",
    "    csvreader = csv.reader(csvfile, delimiter=',')\n",
    "\n",
    "    # Read and store the header row  \n",
    "    csv_header = next(csvreader)\n",
    "    #print(f\"CSV Header: {csv_header}\")\n",
    "    \n",
    "    row_count = len(list(csvreader))\n",
    "   "
   ]
  },
  {
   "cell_type": "code",
   "execution_count": 2,
   "id": "c2d1fc6f-d651-448a-8120-3b2e1249be21",
   "metadata": {},
   "outputs": [],
   "source": [
    "with open(pypollpath) as csvfile:\n",
    "    \n",
    "    # CSV reader specifies delimiter and variable that holds contents\n",
    "    csvreader = csv.reader(csvfile, delimiter=',')\n",
    "\n",
    "    # Read and store the header row  \n",
    "    csv_header = next(csvreader)\n",
    "    \n",
    "    # skip the header\n",
    "    next(csvreader)\n",
    "    \n",
    "    # Read the lines of the file\n",
    "    lines = csvfile.readlines()\n",
    "    \n",
    "    # Create an empty dictionary to store the value counts\n",
    "    value_counts = {}\n",
    "    \n",
    "    # Iterate through each line\n",
    "    for line in lines:\n",
    "        \n",
    "        # split the line into columns\n",
    "        columns = line.strip().split(',')\n",
    "        \n",
    "        # Get the value from the desired column\n",
    "        value = columns[2]\n",
    "        \n",
    "        # Update the value count in the dictionary\n",
    "        value_counts[value] = value_counts.get(value,0) + 1"
   ]
  },
  {
   "cell_type": "code",
   "execution_count": 3,
   "id": "5b1fd464-254b-4511-80a8-e19d24e609f7",
   "metadata": {},
   "outputs": [
    {
     "name": "stdout",
     "output_type": "stream",
     "text": [
      "Election Results\n",
      "--------------------\n",
      "Total Votes:  369711\n",
      "Charles Casper Stockham: 23.048%\n",
      "Diana DeGette: 73.812%\n",
      "Raymon Anthony Doane: 3.139%\n"
     ]
    }
   ],
   "source": [
    "print(\"Election Results\")\n",
    "print(\"--------------------\")\n",
    "print(\"Total Votes: \", row_count)\n",
    "for value, count in value_counts.items():\n",
    "    print(f\"{value}: {(count/row_count)*100:.3f}%\")"
   ]
  }
 ],
 "metadata": {
  "kernelspec": {
   "display_name": "Python 3 (ipykernel)",
   "language": "python",
   "name": "python3"
  },
  "language_info": {
   "codemirror_mode": {
    "name": "ipython",
    "version": 3
   },
   "file_extension": ".py",
   "mimetype": "text/x-python",
   "name": "python",
   "nbconvert_exporter": "python",
   "pygments_lexer": "ipython3",
   "version": "3.7.13"
  }
 },
 "nbformat": 4,
 "nbformat_minor": 5
}
