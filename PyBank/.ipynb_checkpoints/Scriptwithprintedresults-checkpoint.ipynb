{
 "cells": [
  {
   "cell_type": "code",
   "execution_count": 5,
   "id": "3c1c2c28-46d4-472d-b539-bf194133d3ed",
   "metadata": {},
   "outputs": [],
   "source": [
    "# import the os module and module for reading CSV files\n",
    "import os\n",
    "import csv\n",
    "\n",
    "# create the path to collect the data\n",
    "pybankpath = os.path.join('Resources','budget_data.csv')"
   ]
  },
  {
   "cell_type": "code",
   "execution_count": 6,
   "id": "626abea5-b93b-49fb-8f1c-ea6ee9dbc179",
   "metadata": {},
   "outputs": [
    {
     "ename": "FileNotFoundError",
     "evalue": "[Errno 2] No such file or directory: 'Resources\\\\budget_data.csv'",
     "output_type": "error",
     "traceback": [
      "\u001b[1;31m---------------------------------------------------------------------------\u001b[0m",
      "\u001b[1;31mFileNotFoundError\u001b[0m                         Traceback (most recent call last)",
      "\u001b[1;32m~\\AppData\\Local\\Temp\\ipykernel_10492\\1879216969.py\u001b[0m in \u001b[0;36m<module>\u001b[1;34m\u001b[0m\n\u001b[0;32m      1\u001b[0m \u001b[1;31m# Reopen the CSV file\u001b[0m\u001b[1;33m\u001b[0m\u001b[1;33m\u001b[0m\u001b[1;33m\u001b[0m\u001b[0m\n\u001b[1;32m----> 2\u001b[1;33m \u001b[1;32mwith\u001b[0m \u001b[0mopen\u001b[0m\u001b[1;33m(\u001b[0m\u001b[0mpybankpath\u001b[0m\u001b[1;33m)\u001b[0m \u001b[1;32mas\u001b[0m \u001b[0mcsvfile\u001b[0m \u001b[1;33m:\u001b[0m\u001b[1;33m\u001b[0m\u001b[1;33m\u001b[0m\u001b[0m\n\u001b[0m\u001b[0;32m      3\u001b[0m \u001b[1;33m\u001b[0m\u001b[0m\n\u001b[0;32m      4\u001b[0m     \u001b[1;31m# Create a CSV reader\u001b[0m\u001b[1;33m\u001b[0m\u001b[1;33m\u001b[0m\u001b[1;33m\u001b[0m\u001b[0m\n\u001b[0;32m      5\u001b[0m     \u001b[0mcsvreader\u001b[0m \u001b[1;33m=\u001b[0m \u001b[0mcsv\u001b[0m\u001b[1;33m.\u001b[0m\u001b[0mreader\u001b[0m\u001b[1;33m(\u001b[0m\u001b[0mcsvfile\u001b[0m\u001b[1;33m)\u001b[0m\u001b[1;33m\u001b[0m\u001b[1;33m\u001b[0m\u001b[0m\n",
      "\u001b[1;31mFileNotFoundError\u001b[0m: [Errno 2] No such file or directory: 'Resources\\\\budget_data.csv'"
     ]
    }
   ],
   "source": [
    "# Reopen the CSV file\n",
    "with open(pybankpath) as csvfile :\n",
    "    \n",
    "    # Create a CSV reader\n",
    "    csvreader = csv.reader(csvfile)\n",
    "    \n",
    "    # Read and store the header row\n",
    "    csv_header = next(csvreader)\n",
    "    \n",
    "    # Count the the total number of months\n",
    "    row_count = len(list(csvreader))\n",
    "        "
   ]
  },
  {
   "cell_type": "code",
   "execution_count": 4,
   "id": "00cc17db-0d58-43a5-9560-4b66949db118",
   "metadata": {},
   "outputs": [
    {
     "ename": "FileNotFoundError",
     "evalue": "[Errno 2] No such file or directory: 'Resources\\\\budget_data.csv'",
     "output_type": "error",
     "traceback": [
      "\u001b[1;31m---------------------------------------------------------------------------\u001b[0m",
      "\u001b[1;31mFileNotFoundError\u001b[0m                         Traceback (most recent call last)",
      "\u001b[1;32m~\\AppData\\Local\\Temp\\ipykernel_10492\\3733648267.py\u001b[0m in \u001b[0;36m<module>\u001b[1;34m\u001b[0m\n\u001b[0;32m      1\u001b[0m \u001b[1;31m# reopen the csvfile\u001b[0m\u001b[1;33m\u001b[0m\u001b[1;33m\u001b[0m\u001b[1;33m\u001b[0m\u001b[0m\n\u001b[1;32m----> 2\u001b[1;33m \u001b[1;32mwith\u001b[0m \u001b[0mopen\u001b[0m\u001b[1;33m(\u001b[0m\u001b[0mpybankpath\u001b[0m\u001b[1;33m)\u001b[0m \u001b[1;32mas\u001b[0m \u001b[0mcsvfile\u001b[0m\u001b[1;33m:\u001b[0m\u001b[1;33m\u001b[0m\u001b[1;33m\u001b[0m\u001b[0m\n\u001b[0m\u001b[0;32m      3\u001b[0m \u001b[1;33m\u001b[0m\u001b[0m\n\u001b[0;32m      4\u001b[0m     \u001b[0mcsvreader\u001b[0m \u001b[1;33m=\u001b[0m \u001b[0mcsv\u001b[0m\u001b[1;33m.\u001b[0m\u001b[0mreader\u001b[0m\u001b[1;33m(\u001b[0m\u001b[0mcsvfile\u001b[0m\u001b[1;33m)\u001b[0m\u001b[1;33m\u001b[0m\u001b[1;33m\u001b[0m\u001b[0m\n\u001b[0;32m      5\u001b[0m \u001b[1;33m\u001b[0m\u001b[0m\n",
      "\u001b[1;31mFileNotFoundError\u001b[0m: [Errno 2] No such file or directory: 'Resources\\\\budget_data.csv'"
     ]
    }
   ],
   "source": [
    "# reopen the csvfile\n",
    "with open(pybankpath) as csvfile:   \n",
    "    \n",
    "    csvreader = csv.reader(csvfile)\n",
    "   \n",
    "    # skip the header row\n",
    "    next(csvreader)\n",
    "    \n",
    "    # set the initial value for total profit/losses\n",
    "    total = 0\n",
    "    for row in csvreader:\n",
    "        value = int(float(row[1]))\n",
    "        total += value\n",
    "    "
   ]
  },
  {
   "cell_type": "code",
   "execution_count": 5,
   "id": "124f3fd4-f808-46fe-95b3-bdd3af95b7fd",
   "metadata": {},
   "outputs": [],
   "source": [
    "# Reopen the CSV file\n",
    "with open(pybankpath) as csvfile :\n",
    "    \n",
    "    # Create a CSV reader\n",
    "    csvreader = csv.reader(csvfile)\n",
    "    \n",
    "    # Read and store the header row\n",
    "    csv_header = next(csvreader)\n",
    "    \n",
    "    # Find the index of the column to calculate changes for\n",
    "    column_index = csv_header.index('Profit/Losses')\n",
    "    \n",
    "    # Initialize variables\n",
    "    previous_value = None\n",
    "    changes = []\n",
    "    \n",
    "    # Iterate over the rows\n",
    "    for row in csvreader:\n",
    "        # Get the value of the column\n",
    "        value = float(row[column_index])\n",
    "        \n",
    "        # Calculate the change\n",
    "        if previous_value is not None:\n",
    "            change = value - previous_value\n",
    "            changes.append(change)\n",
    "        \n",
    "        # Update the previous value\n",
    "        previous_value = value\n",
    "    "
   ]
  },
  {
   "cell_type": "code",
   "execution_count": 6,
   "id": "d6bb877d-9266-4ab8-9336-cceadec21421",
   "metadata": {},
   "outputs": [],
   "source": [
    "# reopen the csvfile\n",
    "with open(pybankpath) as csvfile :\n",
    "    \n",
    "    # Create a CSV reader\n",
    "    csvreader = csv.reader(csvfile)\n",
    "    \n",
    "    # Read and store the header row\n",
    "    csv_header = next(csvreader)\n",
    "    \n",
    "    row_count = len(list(csvreader))\n",
    "    \n",
    "    totalchange = int(sum(changes))\n",
    "    averagechange = round(float(totalchange/(row_count-1)),2)\n"
   ]
  },
  {
   "cell_type": "code",
   "execution_count": 1,
   "id": "daaca433-10bb-4d68-b69d-d62174d5e795",
   "metadata": {},
   "outputs": [
    {
     "name": "stdout",
     "output_type": "stream",
     "text": [
      "Financial Analysis\n",
      "------------------------------------\n"
     ]
    },
    {
     "ename": "NameError",
     "evalue": "name 'row_count' is not defined",
     "output_type": "error",
     "traceback": [
      "\u001b[1;31m---------------------------------------------------------------------------\u001b[0m",
      "\u001b[1;31mNameError\u001b[0m                                 Traceback (most recent call last)",
      "\u001b[1;32m~\\AppData\\Local\\Temp\\ipykernel_10492\\403046714.py\u001b[0m in \u001b[0;36m<module>\u001b[1;34m\u001b[0m\n\u001b[0;32m      1\u001b[0m \u001b[0mprint\u001b[0m\u001b[1;33m(\u001b[0m\u001b[1;34m\"Financial Analysis\"\u001b[0m\u001b[1;33m)\u001b[0m\u001b[1;33m\u001b[0m\u001b[1;33m\u001b[0m\u001b[0m\n\u001b[0;32m      2\u001b[0m \u001b[0mprint\u001b[0m\u001b[1;33m(\u001b[0m\u001b[1;34m\"------------------------------------\"\u001b[0m\u001b[1;33m)\u001b[0m\u001b[1;33m\u001b[0m\u001b[1;33m\u001b[0m\u001b[0m\n\u001b[1;32m----> 3\u001b[1;33m \u001b[0mprint\u001b[0m\u001b[1;33m(\u001b[0m\u001b[1;34m\"Total Months: \"\u001b[0m\u001b[1;33m,\u001b[0m \u001b[0mrow_count\u001b[0m\u001b[1;33m)\u001b[0m\u001b[1;33m\u001b[0m\u001b[1;33m\u001b[0m\u001b[0m\n\u001b[0m\u001b[0;32m      4\u001b[0m \u001b[0mprint\u001b[0m\u001b[1;33m(\u001b[0m\u001b[1;34m\"Total: \"\u001b[0m\u001b[1;33m,\u001b[0m\u001b[1;34m\"$\"\u001b[0m\u001b[1;33m,\u001b[0m\u001b[0mtotal\u001b[0m\u001b[1;33m)\u001b[0m\u001b[1;33m\u001b[0m\u001b[1;33m\u001b[0m\u001b[0m\n\u001b[0;32m      5\u001b[0m \u001b[0mprint\u001b[0m\u001b[1;33m(\u001b[0m\u001b[1;34m\"Average Change: \"\u001b[0m\u001b[1;33m,\u001b[0m \u001b[0maveragechange\u001b[0m\u001b[1;33m)\u001b[0m\u001b[1;33m\u001b[0m\u001b[1;33m\u001b[0m\u001b[0m\n",
      "\u001b[1;31mNameError\u001b[0m: name 'row_count' is not defined"
     ]
    }
   ],
   "source": [
    "print(\"Financial Analysis\")\n",
    "print(\"------------------------------------\")\n",
    "print(\"Total Months: \", row_count)\n",
    "print(\"Total: \",\"$\",total)\n",
    "print(\"Average Change: \", averagechange)"
   ]
  },
  {
   "cell_type": "code",
   "execution_count": null,
   "id": "7e001af7-abd7-4efa-9b91-56773cfcd54a",
   "metadata": {},
   "outputs": [],
   "source": []
  }
 ],
 "metadata": {
  "kernelspec": {
   "display_name": "Python 3 (ipykernel)",
   "language": "python",
   "name": "python3"
  },
  "language_info": {
   "codemirror_mode": {
    "name": "ipython",
    "version": 3
   },
   "file_extension": ".py",
   "mimetype": "text/x-python",
   "name": "python",
   "nbconvert_exporter": "python",
   "pygments_lexer": "ipython3",
   "version": "3.7.13"
  }
 },
 "nbformat": 4,
 "nbformat_minor": 5
}
