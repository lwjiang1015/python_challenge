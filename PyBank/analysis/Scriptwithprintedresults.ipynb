{
 "cells": [
  {
   "cell_type": "code",
   "execution_count": 2,
   "id": "3c1c2c28-46d4-472d-b539-bf194133d3ed",
   "metadata": {},
   "outputs": [],
   "source": [
    "# import the os module and module for reading CSV files\n",
    "import os\n",
    "import csv\n",
    "\n",
    "# create the path to collect the data\n",
    "pybankpath = os.path.join('Resources','budget_data.csv')"
   ]
  },
  {
   "cell_type": "code",
   "execution_count": 3,
   "id": "626abea5-b93b-49fb-8f1c-ea6ee9dbc179",
   "metadata": {},
   "outputs": [],
   "source": [
    "# Reopen the CSV file\n",
    "with open(pybankpath) as csvfile :\n",
    "    \n",
    "    # Create a CSV reader\n",
    "    csvreader = csv.reader(csvfile)\n",
    "    \n",
    "    # Read and store the header row\n",
    "    csv_header = next(csvreader)\n",
    "    \n",
    "    # Count the the total number of months\n",
    "    row_count = len(list(csvreader))\n",
    "        "
   ]
  },
  {
   "cell_type": "code",
   "execution_count": 4,
   "id": "00cc17db-0d58-43a5-9560-4b66949db118",
   "metadata": {},
   "outputs": [],
   "source": [
    "# reopen the csvfile\n",
    "with open(pybankpath) as csvfile:   \n",
    "    \n",
    "    csvreader = csv.reader(csvfile)\n",
    "   \n",
    "    # skip the header row\n",
    "    next(csvreader)\n",
    "    \n",
    "    # set the initial value for total profit/losses\n",
    "    total = 0\n",
    "    for row in csvreader:\n",
    "        value = int(float(row[1]))\n",
    "        total += value\n",
    "    "
   ]
  },
  {
   "cell_type": "code",
   "execution_count": 5,
   "id": "124f3fd4-f808-46fe-95b3-bdd3af95b7fd",
   "metadata": {},
   "outputs": [],
   "source": [
    "# Reopen the CSV file\n",
    "with open(pybankpath) as csvfile :\n",
    "    \n",
    "    # Create a CSV reader\n",
    "    csvreader = csv.reader(csvfile)\n",
    "    \n",
    "    # Read and store the header row\n",
    "    csv_header = next(csvreader)\n",
    "    \n",
    "    # Find the index of the column to calculate changes for\n",
    "    column_index = csv_header.index('Profit/Losses')\n",
    "    \n",
    "    # Initialize variables\n",
    "    previous_value = None\n",
    "    changes = []\n",
    "    \n",
    "    # Iterate over the rows\n",
    "    for row in csvreader:\n",
    "        # Get the value of the column\n",
    "        value = float(row[column_index])\n",
    "        \n",
    "        # Calculate the change\n",
    "        if previous_value is not None:\n",
    "            change = value - previous_value\n",
    "            changes.append(change)\n",
    "        \n",
    "        # Update the previous value\n",
    "        previous_value = value\n",
    "    "
   ]
  },
  {
   "cell_type": "code",
   "execution_count": 6,
   "id": "d6bb877d-9266-4ab8-9336-cceadec21421",
   "metadata": {},
   "outputs": [],
   "source": [
    "# reopen the csvfile\n",
    "with open(pybankpath) as csvfile :\n",
    "    \n",
    "    # Create a CSV reader\n",
    "    csvreader = csv.reader(csvfile)\n",
    "    \n",
    "    # Read and store the header row\n",
    "    csv_header = next(csvreader)\n",
    "    \n",
    "    row_count = len(list(csvreader))\n",
    "    \n",
    "    totalchange = int(sum(changes))\n",
    "    averagechange = round(float(totalchange/(row_count-1)),2)\n"
   ]
  },
  {
   "cell_type": "code",
   "execution_count": 7,
   "id": "daaca433-10bb-4d68-b69d-d62174d5e795",
   "metadata": {},
   "outputs": [
    {
     "name": "stdout",
     "output_type": "stream",
     "text": [
      "Financial Analysis\n",
      "------------------------------------\n",
      "Total Months:  86\n",
      "Total:  $ 22564198\n",
      "Average Change:  -8311.11\n"
     ]
    }
   ],
   "source": [
    "print(\"Financial Analysis\")\n",
    "print(\"------------------------------------\")\n",
    "print(\"Total Months: \", row_count)\n",
    "print(\"Total: \",\"$\",total)\n",
    "print(\"Average Change: \", averagechange)"
   ]
  }
 ],
 "metadata": {
  "kernelspec": {
   "display_name": "Python 3 (ipykernel)",
   "language": "python",
   "name": "python3"
  },
  "language_info": {
   "codemirror_mode": {
    "name": "ipython",
    "version": 3
   },
   "file_extension": ".py",
   "mimetype": "text/x-python",
   "name": "python",
   "nbconvert_exporter": "python",
   "pygments_lexer": "ipython3",
   "version": "3.7.13"
  }
 },
 "nbformat": 4,
 "nbformat_minor": 5
}
